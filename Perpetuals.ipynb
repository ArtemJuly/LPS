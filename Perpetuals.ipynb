{
 "cells": [
  {
   "cell_type": "code",
   "execution_count": 1,
   "id": "ebeddac7",
   "metadata": {},
   "outputs": [],
   "source": [
    "import json\n",
    "import pandas as pd\n",
    "import requests\n",
    "import datetime\n",
    "import csv\n",
    "from binance import Client\n",
    "#import binance_keys\n",
    "import matplotlib.pyplot as plt\n",
    "binance_client = Client()"
   ]
  },
  {
   "cell_type": "markdown",
   "id": "cf7b5442",
   "metadata": {},
   "source": [
    "# Сбор Данных"
   ]
  },
  {
   "cell_type": "code",
   "execution_count": 2,
   "id": "02fe54be",
   "metadata": {},
   "outputs": [
    {
     "data": {
      "text/html": [
       "<div>\n",
       "<style scoped>\n",
       "    .dataframe tbody tr th:only-of-type {\n",
       "        vertical-align: middle;\n",
       "    }\n",
       "\n",
       "    .dataframe tbody tr th {\n",
       "        vertical-align: top;\n",
       "    }\n",
       "\n",
       "    .dataframe thead th {\n",
       "        text-align: right;\n",
       "    }\n",
       "</style>\n",
       "<table border=\"1\" class=\"dataframe\">\n",
       "  <thead>\n",
       "    <tr style=\"text-align: right;\">\n",
       "      <th></th>\n",
       "      <th>close_spot_bin</th>\n",
       "      <th>volume_spot_bin</th>\n",
       "    </tr>\n",
       "    <tr>\n",
       "      <th>Date</th>\n",
       "      <th></th>\n",
       "      <th></th>\n",
       "    </tr>\n",
       "  </thead>\n",
       "  <tbody>\n",
       "    <tr>\n",
       "      <th>2020-02-01</th>\n",
       "      <td>183.60000000</td>\n",
       "      <td>259370.12902000</td>\n",
       "    </tr>\n",
       "    <tr>\n",
       "      <th>2020-02-02</th>\n",
       "      <td>188.44000000</td>\n",
       "      <td>552621.13619000</td>\n",
       "    </tr>\n",
       "    <tr>\n",
       "      <th>2020-02-03</th>\n",
       "      <td>189.69000000</td>\n",
       "      <td>417175.95781000</td>\n",
       "    </tr>\n",
       "    <tr>\n",
       "      <th>2020-02-04</th>\n",
       "      <td>188.91000000</td>\n",
       "      <td>366389.69686000</td>\n",
       "    </tr>\n",
       "    <tr>\n",
       "      <th>2020-02-05</th>\n",
       "      <td>203.78000000</td>\n",
       "      <td>550942.11417000</td>\n",
       "    </tr>\n",
       "  </tbody>\n",
       "</table>\n",
       "</div>"
      ],
      "text/plain": [
       "           close_spot_bin  volume_spot_bin\n",
       "Date                                      \n",
       "2020-02-01   183.60000000  259370.12902000\n",
       "2020-02-02   188.44000000  552621.13619000\n",
       "2020-02-03   189.69000000  417175.95781000\n",
       "2020-02-04   188.91000000  366389.69686000\n",
       "2020-02-05   203.78000000  550942.11417000"
      ]
     },
     "execution_count": 2,
     "metadata": {},
     "output_type": "execute_result"
    }
   ],
   "source": [
    "# Binance Spot\n",
    "def get_binance(symbol, interval, startTime, endTime, limit):\n",
    "    url = \"https://api.binance.com/api/v3/klines\"\n",
    "\n",
    "    startTime = str(int(startTime.timestamp() * 1000))\n",
    "    endTime = str(int(endTime.timestamp() * 1000))\n",
    "\n",
    "\n",
    "    req_params = {\"symbol\" : symbol, \"interval\" : interval, \"startTime\" : startTime, \"endTime\" : endTime, \"limit\" : limit}\n",
    "\n",
    "    df = pd.DataFrame(json.loads(requests.get(url, params = req_params).text))\n",
    "    if (len(df) == 0):\n",
    "        return None\n",
    "    \n",
    "    df = df.iloc[:, 0:6]\n",
    "    df.columns = [\"datetime\", \"open\", \"high\", \"low\", \"close_spot_bin\", \"volume_spot_bin\"]\n",
    "    df[\"date\"] = [datetime.datetime.fromtimestamp(x / 1000.0) for x in df[\"datetime\"]]\n",
    "    df['Date'] = pd.to_datetime(df['date']).dt.date\n",
    "    df = df.set_index(df[\"Date\"])\n",
    "    df = df.drop([\"datetime\",\"open\", \"high\", \"low\", \"Date\", \"date\"],axis = 1)\n",
    "    return df\n",
    "\n",
    "# Binance\n",
    "df_binance_spot = get_binance(symbol = \"ETHUSDT\", interval = \"1d\",\n",
    "                 startTime = datetime.datetime(2020,2,1),\n",
    "                 endTime = datetime.datetime(2022,10,4), limit = \"1000\")\n",
    "df_binance_spot.head()"
   ]
  },
  {
   "cell_type": "code",
   "execution_count": 3,
   "id": "df3f2d10",
   "metadata": {
    "scrolled": true
   },
   "outputs": [
    {
     "data": {
      "text/html": [
       "<div>\n",
       "<style scoped>\n",
       "    .dataframe tbody tr th:only-of-type {\n",
       "        vertical-align: middle;\n",
       "    }\n",
       "\n",
       "    .dataframe tbody tr th {\n",
       "        vertical-align: top;\n",
       "    }\n",
       "\n",
       "    .dataframe thead th {\n",
       "        text-align: right;\n",
       "    }\n",
       "</style>\n",
       "<table border=\"1\" class=\"dataframe\">\n",
       "  <thead>\n",
       "    <tr style=\"text-align: right;\">\n",
       "      <th></th>\n",
       "      <th>close_spot_ftx</th>\n",
       "      <th>volume_spot_ftx</th>\n",
       "    </tr>\n",
       "    <tr>\n",
       "      <th>Date</th>\n",
       "      <th></th>\n",
       "      <th></th>\n",
       "    </tr>\n",
       "  </thead>\n",
       "  <tbody>\n",
       "    <tr>\n",
       "      <th>2020-06-17</th>\n",
       "      <td>233.875</td>\n",
       "      <td>0.0</td>\n",
       "    </tr>\n",
       "    <tr>\n",
       "      <th>2020-06-18</th>\n",
       "      <td>231.235</td>\n",
       "      <td>0.0</td>\n",
       "    </tr>\n",
       "    <tr>\n",
       "      <th>2020-06-19</th>\n",
       "      <td>229.055</td>\n",
       "      <td>0.0</td>\n",
       "    </tr>\n",
       "    <tr>\n",
       "      <th>2020-06-20</th>\n",
       "      <td>228.855</td>\n",
       "      <td>0.0</td>\n",
       "    </tr>\n",
       "    <tr>\n",
       "      <th>2020-06-21</th>\n",
       "      <td>228.115</td>\n",
       "      <td>0.0</td>\n",
       "    </tr>\n",
       "  </tbody>\n",
       "</table>\n",
       "</div>"
      ],
      "text/plain": [
       "            close_spot_ftx  volume_spot_ftx\n",
       "Date                                       \n",
       "2020-06-17         233.875              0.0\n",
       "2020-06-18         231.235              0.0\n",
       "2020-06-19         229.055              0.0\n",
       "2020-06-20         228.855              0.0\n",
       "2020-06-21         228.115              0.0"
      ]
     },
     "execution_count": 3,
     "metadata": {},
     "output_type": "execute_result"
    }
   ],
   "source": [
    "# FTX Spot\n",
    "def get_ftx(market_name, frequency, start_time):\n",
    "    api_url = 'https://ftx.us/api'\n",
    "    #market_name = 'ETH/USD'\n",
    "    resolution = 60 * 60 * 24 * frequency  #(seconds * minutes * days)\n",
    "   # start_time = datetime.datetime(2022,1,1).timestamp()\n",
    "\n",
    "    path = f'/markets/{market_name}/candles?resolution={resolution}&start={start_time}'\n",
    "    url = api_url + path\n",
    "    \n",
    "    res = requests.get(url).json()\n",
    "    df = pd.DataFrame(res['result'])\n",
    "    df['date'] = pd.to_datetime(df['startTime'])\n",
    "    df['Date'] = pd.to_datetime(df['date']).dt.date\n",
    "    df = df.set_index(df[\"Date\"])\n",
    "    df = df.drop([\"startTime\",\"open\", \"high\", \"time\", \"low\", \"date\", \"Date\"], axis = 1)\n",
    "    df.columns = [\"close_spot_ftx\", \"volume_spot_ftx\"]\n",
    "    return df\n",
    "\n",
    "ftx_spot = get_ftx('ETH/USDT', 1, datetime.datetime(2022,9,1).timestamp())\n",
    "ftx_spot.head()"
   ]
  },
  {
   "cell_type": "code",
   "execution_count": 4,
   "id": "eed1b781",
   "metadata": {},
   "outputs": [
    {
     "data": {
      "text/html": [
       "<div>\n",
       "<style scoped>\n",
       "    .dataframe tbody tr th:only-of-type {\n",
       "        vertical-align: middle;\n",
       "    }\n",
       "\n",
       "    .dataframe tbody tr th {\n",
       "        vertical-align: top;\n",
       "    }\n",
       "\n",
       "    .dataframe thead th {\n",
       "        text-align: right;\n",
       "    }\n",
       "</style>\n",
       "<table border=\"1\" class=\"dataframe\">\n",
       "  <thead>\n",
       "    <tr style=\"text-align: right;\">\n",
       "      <th></th>\n",
       "      <th>Close_DEX</th>\n",
       "      <th>VolumeDEX</th>\n",
       "    </tr>\n",
       "    <tr>\n",
       "      <th>Date</th>\n",
       "      <th></th>\n",
       "      <th></th>\n",
       "    </tr>\n",
       "  </thead>\n",
       "  <tbody>\n",
       "    <tr>\n",
       "      <th>2022-10-09</th>\n",
       "      <td>1322.216108</td>\n",
       "      <td>1.689992e+07</td>\n",
       "    </tr>\n",
       "    <tr>\n",
       "      <th>2022-10-08</th>\n",
       "      <td>1315.726177</td>\n",
       "      <td>3.675705e+07</td>\n",
       "    </tr>\n",
       "    <tr>\n",
       "      <th>2022-10-07</th>\n",
       "      <td>1331.517338</td>\n",
       "      <td>2.930215e+07</td>\n",
       "    </tr>\n",
       "    <tr>\n",
       "      <th>2022-10-06</th>\n",
       "      <td>1351.553389</td>\n",
       "      <td>2.890063e+07</td>\n",
       "    </tr>\n",
       "    <tr>\n",
       "      <th>2022-10-05</th>\n",
       "      <td>1352.558380</td>\n",
       "      <td>3.579228e+07</td>\n",
       "    </tr>\n",
       "  </tbody>\n",
       "</table>\n",
       "</div>"
      ],
      "text/plain": [
       "              Close_DEX     VolumeDEX\n",
       "Date                                 \n",
       "2022-10-09  1322.216108  1.689992e+07\n",
       "2022-10-08  1315.726177  3.675705e+07\n",
       "2022-10-07  1331.517338  2.930215e+07\n",
       "2022-10-06  1351.553389  2.890063e+07\n",
       "2022-10-05  1352.558380  3.579228e+07"
      ]
     },
     "execution_count": 4,
     "metadata": {},
     "output_type": "execute_result"
    }
   ],
   "source": [
    "# Uniswap Spot and Volume\n",
    "url = 'https://api.thegraph.com/subgraphs/name/uniswap/uniswap-v3'\n",
    "query = \"\"\"{\n",
    "    pools(\n",
    "        orderBy: volumeUSD,\n",
    "        orderDirection: desc,\n",
    "        first: 1,\n",
    "      where: {\n",
    "       token0: \"0xc02aaa39b223fe8d0a0e5c4f27ead9083c756cc2\",\n",
    "       token1: \"0xdac17f958d2ee523a2206206994597c13d831ec7\"},\n",
    "        ) {\n",
    "            id\n",
    "            token0 {\n",
    "                symbol\n",
    "            }\n",
    "            token1 {\n",
    "                symbol\n",
    "            }\n",
    "            poolDayData(\n",
    "                orderBy: date\n",
    "                orderDirection: desc\n",
    "                ){\n",
    "                    date\n",
    "                    token0Price\n",
    "                    token1Price\n",
    "                    high\n",
    "                    low\n",
    "                    open\n",
    "                    close\n",
    "      \t\t\t\t\t\t\tvolumeUSD\n",
    "                }\n",
    "            }\n",
    "        }\"\"\"\n",
    "response = requests.post(url, json={'query': query})\n",
    "json_data = json.loads(response.text)\n",
    "a = json_data.get(\"data\").get(\"pools\")[0].get(\"poolDayData\")\n",
    "df = pd.DataFrame(a)\n",
    "    \n",
    "   \n",
    "#df[\"date\"] = [datetime.datetime.fromtimestamp(x) for x in df[\"date\"]]\n",
    "df[\"date\"] = [datetime.datetime.fromtimestamp(x) - datetime.timedelta(days=1) for x in df[\"date\"]]\n",
    "df['Date'] = pd.to_datetime(df['date']).dt.date\n",
    "\n",
    "df = df.set_index(df[\"Date\"])\n",
    "df = df.drop([\"date\",\"token1Price\",\"high\",\"low\",\"open\", \"Date\",\"token0Price\"], axis = 1)\n",
    "df.columns = [\"Close_DEX\", \"VolumeDEX\"]\n",
    "df[\"VolumeDEX\"] = [float(x) for x in df[\"VolumeDEX\"]]\n",
    "df[\"Close_DEX\"] = [1/float(x) for x in df[\"Close_DEX\"]]\n",
    "uni_spot = df\n",
    "uni_spot.head()"
   ]
  },
  {
   "cell_type": "code",
   "execution_count": 5,
   "id": "bd03eade",
   "metadata": {},
   "outputs": [
    {
     "data": {
      "text/html": [
       "<div>\n",
       "<style scoped>\n",
       "    .dataframe tbody tr th:only-of-type {\n",
       "        vertical-align: middle;\n",
       "    }\n",
       "\n",
       "    .dataframe tbody tr th {\n",
       "        vertical-align: top;\n",
       "    }\n",
       "\n",
       "    .dataframe thead th {\n",
       "        text-align: right;\n",
       "    }\n",
       "</style>\n",
       "<table border=\"1\" class=\"dataframe\">\n",
       "  <thead>\n",
       "    <tr style=\"text-align: right;\">\n",
       "      <th></th>\n",
       "      <th>close_Qfut_bin</th>\n",
       "      <th>volume_Qfut_bin</th>\n",
       "    </tr>\n",
       "    <tr>\n",
       "      <th>Date</th>\n",
       "      <th></th>\n",
       "      <th></th>\n",
       "    </tr>\n",
       "  </thead>\n",
       "  <tbody>\n",
       "    <tr>\n",
       "      <th>2022-09-01</th>\n",
       "      <td>1585.40</td>\n",
       "      <td>9119984.942</td>\n",
       "    </tr>\n",
       "    <tr>\n",
       "      <th>2022-09-02</th>\n",
       "      <td>1574.49</td>\n",
       "      <td>9144439.365</td>\n",
       "    </tr>\n",
       "    <tr>\n",
       "      <th>2022-09-03</th>\n",
       "      <td>1556.41</td>\n",
       "      <td>3937946.105</td>\n",
       "    </tr>\n",
       "    <tr>\n",
       "      <th>2022-09-04</th>\n",
       "      <td>1578.14</td>\n",
       "      <td>3969402.047</td>\n",
       "    </tr>\n",
       "    <tr>\n",
       "      <th>2022-09-05</th>\n",
       "      <td>1616.92</td>\n",
       "      <td>5810610.257</td>\n",
       "    </tr>\n",
       "  </tbody>\n",
       "</table>\n",
       "</div>"
      ],
      "text/plain": [
       "           close_Qfut_bin volume_Qfut_bin\n",
       "Date                                     \n",
       "2022-09-01        1585.40     9119984.942\n",
       "2022-09-02        1574.49     9144439.365\n",
       "2022-09-03        1556.41     3937946.105\n",
       "2022-09-04        1578.14     3969402.047\n",
       "2022-09-05        1616.92     5810610.257"
      ]
     },
     "execution_count": 5,
     "metadata": {},
     "output_type": "execute_result"
    }
   ],
   "source": [
    "# Binance Q Futures\n",
    "def get_binance_futures(symbol, interval, start_str, end_str):\n",
    "    df = binance_client.futures_historical_klines(symbol=symbol, interval=interval, start_str=start_str, end_str=end_str)\n",
    "    df = pd.DataFrame(df)\n",
    "    df = df.iloc[:,0:6]\n",
    "    df.columns = [\"datetime\", \"open\", \"high\", \"low\", \"close\", \"volume\"]\n",
    "    df[\"date\"] = [datetime.datetime.fromtimestamp(x / 1000.0) for x in df[\"datetime\"]]\n",
    "    \n",
    "    df['Date'] = pd.to_datetime(df['date']).dt.date\n",
    "    df = df.set_index(df[\"Date\"])\n",
    "    df = df.drop([\"datetime\",\"open\", \"high\",  \"low\", \"date\", \"Date\"], axis = 1)\n",
    "    #df = df.drop([\"startTime\",\"open\", \"high\", \"time\" \"low\", \"Date\", \"date\"], axis = 1)\n",
    "    df.columns = [\"close_Qfut_bin\", \"volume_Qfut_bin\"]\n",
    "    #df = df.set_index(df[\"date\"])\n",
    "    #df = df.drop(columns = ['datetime', 'date'])\n",
    "    return df\n",
    "\n",
    "binance_Q_futures = get_binance_futures(symbol='ETHUSDT', interval='1d',\n",
    "                    start_str='2022-09-01', end_str='2022-10-05')\n",
    "binance_Q_futures.head()"
   ]
  },
  {
   "cell_type": "code",
   "execution_count": 6,
   "id": "2e5d9d6a",
   "metadata": {
    "scrolled": true
   },
   "outputs": [
    {
     "data": {
      "text/html": [
       "<div>\n",
       "<style scoped>\n",
       "    .dataframe tbody tr th:only-of-type {\n",
       "        vertical-align: middle;\n",
       "    }\n",
       "\n",
       "    .dataframe tbody tr th {\n",
       "        vertical-align: top;\n",
       "    }\n",
       "\n",
       "    .dataframe thead th {\n",
       "        text-align: right;\n",
       "    }\n",
       "</style>\n",
       "<table border=\"1\" class=\"dataframe\">\n",
       "  <thead>\n",
       "    <tr style=\"text-align: right;\">\n",
       "      <th></th>\n",
       "      <th>close_Qfut_ftx</th>\n",
       "      <th>volume_fut_ftx</th>\n",
       "    </tr>\n",
       "    <tr>\n",
       "      <th>Date</th>\n",
       "      <th></th>\n",
       "      <th></th>\n",
       "    </tr>\n",
       "  </thead>\n",
       "  <tbody>\n",
       "    <tr>\n",
       "      <th>2022-06-10</th>\n",
       "      <td>1688.8</td>\n",
       "      <td>4.593337e+05</td>\n",
       "    </tr>\n",
       "    <tr>\n",
       "      <th>2022-06-11</th>\n",
       "      <td>1555.0</td>\n",
       "      <td>9.053540e+05</td>\n",
       "    </tr>\n",
       "    <tr>\n",
       "      <th>2022-06-12</th>\n",
       "      <td>1454.0</td>\n",
       "      <td>1.857308e+06</td>\n",
       "    </tr>\n",
       "    <tr>\n",
       "      <th>2022-06-13</th>\n",
       "      <td>1223.6</td>\n",
       "      <td>3.134731e+06</td>\n",
       "    </tr>\n",
       "    <tr>\n",
       "      <th>2022-06-14</th>\n",
       "      <td>1220.0</td>\n",
       "      <td>1.461191e+06</td>\n",
       "    </tr>\n",
       "  </tbody>\n",
       "</table>\n",
       "</div>"
      ],
      "text/plain": [
       "            close_Qfut_ftx  volume_fut_ftx\n",
       "Date                                      \n",
       "2022-06-10          1688.8    4.593337e+05\n",
       "2022-06-11          1555.0    9.053540e+05\n",
       "2022-06-12          1454.0    1.857308e+06\n",
       "2022-06-13          1223.6    3.134731e+06\n",
       "2022-06-14          1220.0    1.461191e+06"
      ]
     },
     "execution_count": 6,
     "metadata": {},
     "output_type": "execute_result"
    }
   ],
   "source": [
    "# FTX Q Futures\n",
    "api_url = 'https://ftx.us/api'\n",
    "api = '/markets'\n",
    "futures = '/ETH-1230'\n",
    "resolutions = 'candles?resolution=86400&'\n",
    "start_time= str(datetime.datetime.timestamp(datetime.datetime(2021,1,1)))\n",
    "url = api_url + api + resolutions + start_time\n",
    "\n",
    "df = requests.get('https://ftx.com/api/markets/ETH-1230/candles?resolution=86400&start_time=1609462800').json()\n",
    "df = pd.DataFrame(df['result'])\n",
    "df['Date'] = pd.to_datetime(df['startTime']).dt.date\n",
    "df = df.set_index(df[\"Date\"])\n",
    "df = df.drop([\"startTime\", \"time\", \"open\", \"high\",  \"low\", \"Date\"], axis = 1)\n",
    "    #df = df.drop([\"startTime\",\"open\", \"high\", \"time\" \"low\", \"Date\", \"date\"], axis = 1)\n",
    "df.columns = [\"close_Qfut_ftx\", \"volume_fut_ftx\"]\n",
    "    #df = df.set_index(df[\"date\"])\n",
    "    #df = df.drop(columns = ['datetime', 'date'])\n",
    "ftx_Q_futures = df\n",
    "ftx_Q_futures.head()"
   ]
  },
  {
   "cell_type": "code",
   "execution_count": 7,
   "id": "ac904bf4",
   "metadata": {},
   "outputs": [
    {
     "data": {
      "text/html": [
       "<div>\n",
       "<style scoped>\n",
       "    .dataframe tbody tr th:only-of-type {\n",
       "        vertical-align: middle;\n",
       "    }\n",
       "\n",
       "    .dataframe tbody tr th {\n",
       "        vertical-align: top;\n",
       "    }\n",
       "\n",
       "    .dataframe thead th {\n",
       "        text-align: right;\n",
       "    }\n",
       "</style>\n",
       "<table border=\"1\" class=\"dataframe\">\n",
       "  <thead>\n",
       "    <tr style=\"text-align: right;\">\n",
       "      <th></th>\n",
       "      <th>rate</th>\n",
       "    </tr>\n",
       "    <tr>\n",
       "      <th>time</th>\n",
       "      <th></th>\n",
       "    </tr>\n",
       "  </thead>\n",
       "  <tbody>\n",
       "    <tr>\n",
       "      <th>2022-09-13T00:00:00+00:00</th>\n",
       "      <td>-0.000060</td>\n",
       "    </tr>\n",
       "    <tr>\n",
       "      <th>2022-09-12T23:00:00+00:00</th>\n",
       "      <td>-0.000059</td>\n",
       "    </tr>\n",
       "    <tr>\n",
       "      <th>2022-09-12T22:00:00+00:00</th>\n",
       "      <td>-0.000056</td>\n",
       "    </tr>\n",
       "    <tr>\n",
       "      <th>2022-09-12T21:00:00+00:00</th>\n",
       "      <td>-0.000057</td>\n",
       "    </tr>\n",
       "    <tr>\n",
       "      <th>2022-09-12T20:00:00+00:00</th>\n",
       "      <td>-0.000062</td>\n",
       "    </tr>\n",
       "    <tr>\n",
       "      <th>...</th>\n",
       "      <td>...</td>\n",
       "    </tr>\n",
       "    <tr>\n",
       "      <th>2022-08-23T09:00:00+00:00</th>\n",
       "      <td>-0.000010</td>\n",
       "    </tr>\n",
       "    <tr>\n",
       "      <th>2022-08-23T08:00:00+00:00</th>\n",
       "      <td>-0.000014</td>\n",
       "    </tr>\n",
       "    <tr>\n",
       "      <th>2022-08-23T07:00:00+00:00</th>\n",
       "      <td>-0.000023</td>\n",
       "    </tr>\n",
       "    <tr>\n",
       "      <th>2022-08-23T06:00:00+00:00</th>\n",
       "      <td>-0.000019</td>\n",
       "    </tr>\n",
       "    <tr>\n",
       "      <th>2022-08-23T05:00:00+00:00</th>\n",
       "      <td>-0.000011</td>\n",
       "    </tr>\n",
       "  </tbody>\n",
       "</table>\n",
       "<p>500 rows × 1 columns</p>\n",
       "</div>"
      ],
      "text/plain": [
       "                               rate\n",
       "time                               \n",
       "2022-09-13T00:00:00+00:00 -0.000060\n",
       "2022-09-12T23:00:00+00:00 -0.000059\n",
       "2022-09-12T22:00:00+00:00 -0.000056\n",
       "2022-09-12T21:00:00+00:00 -0.000057\n",
       "2022-09-12T20:00:00+00:00 -0.000062\n",
       "...                             ...\n",
       "2022-08-23T09:00:00+00:00 -0.000010\n",
       "2022-08-23T08:00:00+00:00 -0.000014\n",
       "2022-08-23T07:00:00+00:00 -0.000023\n",
       "2022-08-23T06:00:00+00:00 -0.000019\n",
       "2022-08-23T05:00:00+00:00 -0.000011\n",
       "\n",
       "[500 rows x 1 columns]"
      ]
     },
     "execution_count": 7,
     "metadata": {},
     "output_type": "execute_result"
    }
   ],
   "source": [
    "# Get Funding ftx\n",
    "ftx_endpoint = 'https://ftx.com/api/'\n",
    "start_time = (pd.to_datetime('2022-03-13')- pd.Timestamp(\"1970-01-01\"))// pd.Timedelta('1s')\n",
    "end_time = (pd.to_datetime('2022-09-13')- pd.Timestamp(\"1970-01-01\"))// pd.Timedelta('1s')\n",
    "futures = requests.get(ftx_endpoint+'futures').json()['result']\n",
    "#funding_hist = requests.get(ftx_endpoint+'funding_rates',{'future':futures[0]['name'],'start_time': start_time, 'end_time': end_time}).json()['result']\n",
    "#funding_hist = requests.get(ftx_endpoint+'funding_rates',{'future':\"BTC-PERP\",'start_time': start_time, 'end_time': end_time}).json()['result']\n",
    "# Get BTC-perp data\n",
    "funding_hist = requests.get(ftx_endpoint+'funding_rates',\n",
    "                            {'future':\"ETH-PERP\",'start_time': start_time,\n",
    "                             'end_time': end_time}).json()['result']\n",
    "ftx_funding = pd.DataFrame(funding_hist)\n",
    "\n",
    "\n",
    "ftx_funding = ftx_funding.set_index(ftx_funding[\"time\"])\n",
    "ftx_funding = ftx_funding.drop(['time', 'future'], axis=1)\n",
    "ftx_funding"
   ]
  },
  {
   "cell_type": "code",
   "execution_count": 8,
   "id": "4aee8361",
   "metadata": {},
   "outputs": [
    {
     "data": {
      "text/html": [
       "<div>\n",
       "<style scoped>\n",
       "    .dataframe tbody tr th:only-of-type {\n",
       "        vertical-align: middle;\n",
       "    }\n",
       "\n",
       "    .dataframe tbody tr th {\n",
       "        vertical-align: top;\n",
       "    }\n",
       "\n",
       "    .dataframe thead th {\n",
       "        text-align: right;\n",
       "    }\n",
       "</style>\n",
       "<table border=\"1\" class=\"dataframe\">\n",
       "  <thead>\n",
       "    <tr style=\"text-align: right;\">\n",
       "      <th></th>\n",
       "      <th>fundingRate</th>\n",
       "    </tr>\n",
       "    <tr>\n",
       "      <th>fundingTime</th>\n",
       "      <th></th>\n",
       "    </tr>\n",
       "  </thead>\n",
       "  <tbody>\n",
       "    <tr>\n",
       "      <th>2022-03-13 03:00:00.008</th>\n",
       "      <td>0.00002116</td>\n",
       "    </tr>\n",
       "    <tr>\n",
       "      <th>2022-03-13 11:00:00.000</th>\n",
       "      <td>0.00010000</td>\n",
       "    </tr>\n",
       "    <tr>\n",
       "      <th>2022-03-13 19:00:00.002</th>\n",
       "      <td>-0.00002698</td>\n",
       "    </tr>\n",
       "    <tr>\n",
       "      <th>2022-03-14 03:00:00.014</th>\n",
       "      <td>-0.00010352</td>\n",
       "    </tr>\n",
       "    <tr>\n",
       "      <th>2022-03-14 11:00:00.005</th>\n",
       "      <td>0.00010000</td>\n",
       "    </tr>\n",
       "  </tbody>\n",
       "</table>\n",
       "</div>"
      ],
      "text/plain": [
       "                         fundingRate\n",
       "fundingTime                         \n",
       "2022-03-13 03:00:00.008   0.00002116\n",
       "2022-03-13 11:00:00.000   0.00010000\n",
       "2022-03-13 19:00:00.002  -0.00002698\n",
       "2022-03-14 03:00:00.014  -0.00010352\n",
       "2022-03-14 11:00:00.005   0.00010000"
      ]
     },
     "execution_count": 8,
     "metadata": {},
     "output_type": "execute_result"
    }
   ],
   "source": [
    "#binance Funding\n",
    "binance_endpoint = 'https://fapi.binance.com'\n",
    "binance_BTCUSDT_hist = requests.get(binance_endpoint+'/fapi/v1/fundingRate',\n",
    "                                    {'symbol':'ETHUSDT','startTime': start_time*1000,\n",
    "                                     'endTime': end_time*1000,'limit':1000}).json()\n",
    "binance_funding = pd.DataFrame(binance_BTCUSDT_hist)\n",
    "\n",
    "binance_funding[\"fundingTime\"] = [datetime.datetime.fromtimestamp(x / 1000) \n",
    "                                  for x in binance_funding[\"fundingTime\"]    ]\n",
    "binance_funding = binance_funding.drop([\"symbol\"], axis = 1)\n",
    "binance_funding = binance_funding.set_index(\"fundingTime\")\n",
    "binance_funding.head()"
   ]
  },
  {
   "cell_type": "code",
   "execution_count": 39,
   "id": "56292b2b",
   "metadata": {},
   "outputs": [],
   "source": [
    "svod = df_binance_spot.merge(ftx_spot, on = [\"Date\"], how = 'left')\n",
    "svod = svod.merge(binance_Q_futures, on = [\"Date\"], how = 'left')\n",
    "svod = svod.merge(ftx_Q_futures, on = [\"Date\"], how = 'left')\n",
    "svod = svod.merge(uni_spot, on = [\"Date\"], how = 'left')\n",
    "svod = svod.dropna()"
   ]
  },
  {
   "cell_type": "code",
   "execution_count": 10,
   "id": "ecd18f83",
   "metadata": {
    "scrolled": false
   },
   "outputs": [
    {
     "data": {
      "text/html": [
       "<div>\n",
       "<style scoped>\n",
       "    .dataframe tbody tr th:only-of-type {\n",
       "        vertical-align: middle;\n",
       "    }\n",
       "\n",
       "    .dataframe tbody tr th {\n",
       "        vertical-align: top;\n",
       "    }\n",
       "\n",
       "    .dataframe thead th {\n",
       "        text-align: right;\n",
       "    }\n",
       "</style>\n",
       "<table border=\"1\" class=\"dataframe\">\n",
       "  <thead>\n",
       "    <tr style=\"text-align: right;\">\n",
       "      <th></th>\n",
       "      <th>close_spot_bin</th>\n",
       "      <th>volume_spot_bin</th>\n",
       "      <th>close_spot_ftx</th>\n",
       "      <th>volume_spot_ftx</th>\n",
       "      <th>close_Qfut_bin</th>\n",
       "      <th>volume_Qfut_bin</th>\n",
       "      <th>close_Qfut_ftx</th>\n",
       "      <th>volume_fut_ftx</th>\n",
       "      <th>Close_DEX</th>\n",
       "      <th>VolumeDEX</th>\n",
       "    </tr>\n",
       "    <tr>\n",
       "      <th>Date</th>\n",
       "      <th></th>\n",
       "      <th></th>\n",
       "      <th></th>\n",
       "      <th></th>\n",
       "      <th></th>\n",
       "      <th></th>\n",
       "      <th></th>\n",
       "      <th></th>\n",
       "      <th></th>\n",
       "      <th></th>\n",
       "    </tr>\n",
       "  </thead>\n",
       "  <tbody>\n",
       "    <tr>\n",
       "      <th>2022-09-01</th>\n",
       "      <td>1586.16000000</td>\n",
       "      <td>728710.48200000</td>\n",
       "      <td>1586.4</td>\n",
       "      <td>3.527003e+06</td>\n",
       "      <td>1585.40</td>\n",
       "      <td>9119984.942</td>\n",
       "      <td>1554.2</td>\n",
       "      <td>1.963011e+07</td>\n",
       "      <td>1585.733834</td>\n",
       "      <td>6.642862e+07</td>\n",
       "    </tr>\n",
       "    <tr>\n",
       "      <th>2022-09-02</th>\n",
       "      <td>1575.35000000</td>\n",
       "      <td>919009.65980000</td>\n",
       "      <td>1575.3</td>\n",
       "      <td>4.194169e+06</td>\n",
       "      <td>1574.49</td>\n",
       "      <td>9144439.365</td>\n",
       "      <td>1544.3</td>\n",
       "      <td>2.132247e+07</td>\n",
       "      <td>1575.672780</td>\n",
       "      <td>2.517209e+07</td>\n",
       "    </tr>\n",
       "    <tr>\n",
       "      <th>2022-09-03</th>\n",
       "      <td>1557.46000000</td>\n",
       "      <td>321397.21890000</td>\n",
       "      <td>1557.2</td>\n",
       "      <td>2.225313e+06</td>\n",
       "      <td>1556.41</td>\n",
       "      <td>3937946.105</td>\n",
       "      <td>1527.7</td>\n",
       "      <td>1.623805e+07</td>\n",
       "      <td>1556.683342</td>\n",
       "      <td>2.195220e+07</td>\n",
       "    </tr>\n",
       "    <tr>\n",
       "      <th>2022-09-04</th>\n",
       "      <td>1579.28000000</td>\n",
       "      <td>296591.11660000</td>\n",
       "      <td>1579.1</td>\n",
       "      <td>1.355964e+06</td>\n",
       "      <td>1578.14</td>\n",
       "      <td>3969402.047</td>\n",
       "      <td>1548.2</td>\n",
       "      <td>1.484903e+07</td>\n",
       "      <td>1579.574818</td>\n",
       "      <td>6.484909e+07</td>\n",
       "    </tr>\n",
       "    <tr>\n",
       "      <th>2022-09-05</th>\n",
       "      <td>1617.80000000</td>\n",
       "      <td>503492.93700000</td>\n",
       "      <td>1617.3</td>\n",
       "      <td>1.301234e+06</td>\n",
       "      <td>1616.92</td>\n",
       "      <td>5810610.257</td>\n",
       "      <td>1588.3</td>\n",
       "      <td>2.104570e+07</td>\n",
       "      <td>1618.613227</td>\n",
       "      <td>8.962627e+07</td>\n",
       "    </tr>\n",
       "  </tbody>\n",
       "</table>\n",
       "</div>"
      ],
      "text/plain": [
       "           close_spot_bin  volume_spot_bin  close_spot_ftx  volume_spot_ftx  \\\n",
       "Date                                                                          \n",
       "2022-09-01  1586.16000000  728710.48200000          1586.4     3.527003e+06   \n",
       "2022-09-02  1575.35000000  919009.65980000          1575.3     4.194169e+06   \n",
       "2022-09-03  1557.46000000  321397.21890000          1557.2     2.225313e+06   \n",
       "2022-09-04  1579.28000000  296591.11660000          1579.1     1.355964e+06   \n",
       "2022-09-05  1617.80000000  503492.93700000          1617.3     1.301234e+06   \n",
       "\n",
       "           close_Qfut_bin volume_Qfut_bin  close_Qfut_ftx  volume_fut_ftx  \\\n",
       "Date                                                                        \n",
       "2022-09-01        1585.40     9119984.942          1554.2    1.963011e+07   \n",
       "2022-09-02        1574.49     9144439.365          1544.3    2.132247e+07   \n",
       "2022-09-03        1556.41     3937946.105          1527.7    1.623805e+07   \n",
       "2022-09-04        1578.14     3969402.047          1548.2    1.484903e+07   \n",
       "2022-09-05        1616.92     5810610.257          1588.3    2.104570e+07   \n",
       "\n",
       "              Close_DEX     VolumeDEX  \n",
       "Date                                   \n",
       "2022-09-01  1585.733834  6.642862e+07  \n",
       "2022-09-02  1575.672780  2.517209e+07  \n",
       "2022-09-03  1556.683342  2.195220e+07  \n",
       "2022-09-04  1579.574818  6.484909e+07  \n",
       "2022-09-05  1618.613227  8.962627e+07  "
      ]
     },
     "execution_count": 10,
     "metadata": {},
     "output_type": "execute_result"
    }
   ],
   "source": [
    "svod.head()"
   ]
  },
  {
   "cell_type": "code",
   "execution_count": 11,
   "id": "4fda2bfd",
   "metadata": {},
   "outputs": [
    {
     "data": {
      "text/html": [
       "<div>\n",
       "<style scoped>\n",
       "    .dataframe tbody tr th:only-of-type {\n",
       "        vertical-align: middle;\n",
       "    }\n",
       "\n",
       "    .dataframe tbody tr th {\n",
       "        vertical-align: top;\n",
       "    }\n",
       "\n",
       "    .dataframe thead th {\n",
       "        text-align: right;\n",
       "    }\n",
       "</style>\n",
       "<table border=\"1\" class=\"dataframe\">\n",
       "  <thead>\n",
       "    <tr style=\"text-align: right;\">\n",
       "      <th></th>\n",
       "      <th>rate</th>\n",
       "    </tr>\n",
       "    <tr>\n",
       "      <th>time</th>\n",
       "      <th></th>\n",
       "    </tr>\n",
       "  </thead>\n",
       "  <tbody>\n",
       "    <tr>\n",
       "      <th>2022-09-13T00:00:00+00:00</th>\n",
       "      <td>-0.000060</td>\n",
       "    </tr>\n",
       "    <tr>\n",
       "      <th>2022-09-12T23:00:00+00:00</th>\n",
       "      <td>-0.000059</td>\n",
       "    </tr>\n",
       "    <tr>\n",
       "      <th>2022-09-12T22:00:00+00:00</th>\n",
       "      <td>-0.000056</td>\n",
       "    </tr>\n",
       "    <tr>\n",
       "      <th>2022-09-12T21:00:00+00:00</th>\n",
       "      <td>-0.000057</td>\n",
       "    </tr>\n",
       "    <tr>\n",
       "      <th>2022-09-12T20:00:00+00:00</th>\n",
       "      <td>-0.000062</td>\n",
       "    </tr>\n",
       "  </tbody>\n",
       "</table>\n",
       "</div>"
      ],
      "text/plain": [
       "                               rate\n",
       "time                               \n",
       "2022-09-13T00:00:00+00:00 -0.000060\n",
       "2022-09-12T23:00:00+00:00 -0.000059\n",
       "2022-09-12T22:00:00+00:00 -0.000056\n",
       "2022-09-12T21:00:00+00:00 -0.000057\n",
       "2022-09-12T20:00:00+00:00 -0.000062"
      ]
     },
     "execution_count": 11,
     "metadata": {},
     "output_type": "execute_result"
    }
   ],
   "source": [
    "ftx_funding.head()"
   ]
  },
  {
   "cell_type": "code",
   "execution_count": 12,
   "id": "5227a73f",
   "metadata": {},
   "outputs": [],
   "source": [
    "_binance_funding = binance_funding\n",
    "_binance_funding[\"fundingTime\"] = _binance_funding.index\n",
    "_binance_funding[\"fundingTime\"] = [x.replace(microsecond=0) for x in _binance_funding[\"fundingTime\"]]\n",
    "_binance_funding = _binance_funding.set_index(_binance_funding[\"fundingTime\"])\n",
    "_binance_funding = _binance_funding.drop([\"fundingTime\"], axis = 1)\n",
    "\n",
    "_ftx_funding = ftx_funding\n",
    "_ftx_funding[\"fundingTime\"] = _ftx_funding.index\n",
    "#_ftx_funding[\"fundingTime\"] = [datetime.datetime(x) for x in _ftx_funding[\"fundingTime\"]]\n",
    "_ftx_funding = _ftx_funding.set_index(_ftx_funding[\"fundingTime\"])\n",
    "_ftx_funding = _ftx_funding.drop([\"fundingTime\"], axis = 1)\n",
    "\n"
   ]
  },
  {
   "cell_type": "code",
   "execution_count": 13,
   "id": "91a6e1ce",
   "metadata": {
    "scrolled": true
   },
   "outputs": [],
   "source": [
    "_ftx_funding = ftx_funding\n",
    "_ftx_funding[\"fundingTime\"] = _ftx_funding.index\n",
    "a =[]\n",
    "for _lupa in _ftx_funding[\"fundingTime\"]:\n",
    "    \n",
    "    _lupa = _lupa.split(\"+\")[0]\n",
    "    _lupa_date = _lupa.split(\"T\")[0]\n",
    "    _lupa_time = _lupa.split(\"T\")[1]\n",
    "    _lupa = _lupa_date + \" \"+ _lupa_time\n",
    "    _lupa = datetime.datetime.strptime(_lupa, '%Y-%m-%d %H:%M:%S')\n",
    "    a.append(_lupa)\n",
    "\n",
    "\n",
    "    \n",
    "_ftx_funding[\"fundingTime\"] = a\n",
    "\n",
    "_ftx_funding = _ftx_funding.set_index(_ftx_funding[\"fundingTime\"])\n",
    "_ftx_funding = _ftx_funding.drop([\"fundingTime\"], axis = 1)"
   ]
  },
  {
   "cell_type": "code",
   "execution_count": 14,
   "id": "462b45f7",
   "metadata": {},
   "outputs": [],
   "source": [
    "svod_rates = _ftx_funding.merge(_binance_funding, on = [\"fundingTime\"], how = 'left')\n",
    "svod_rates.fillna(method='bfill', inplace = True)\n",
    "svod_rates.columns =[\"ftx_funding\", \"bin_funding\"]\n",
    "svod_rates[\"bin_funding\"] = [float(x) for x in svod_rates[\"bin_funding\"]]\n"
   ]
  },
  {
   "cell_type": "markdown",
   "id": "baf857dd",
   "metadata": {},
   "source": [
    "# Анализ данных"
   ]
  },
  {
   "cell_type": "markdown",
   "id": "81ef23c0",
   "metadata": {},
   "source": [
    "## Сравнение цен на CEX и DEX"
   ]
  },
  {
   "cell_type": "code",
   "execution_count": 29,
   "id": "b4cefd81",
   "metadata": {},
   "outputs": [
    {
     "data": {
      "text/plain": [
       "Text(0.5, 1.0, 'Spread between CEX and DEX spot close prices')"
      ]
     },
     "execution_count": 29,
     "metadata": {},
     "output_type": "execute_result"
    },
    {
     "data": {
      "image/png": "[encoded data removed]",
      "text/plain": [
       "<Figure size 1152x576 with 1 Axes>"
      ]
     },
     "metadata": {
      "needs_background": "light"
     },
     "output_type": "display_data"
    }
   ],
   "source": [
    "# Сравнение цен\n",
    "svod[\"close_spot_bin\"] = [float(x) for x in svod[\"close_spot_bin\"]]\n",
    "svod[\"Close_DEX\"] = svod[\"Close_DEX\"] * 1.0003 # add Comission \n",
    "svod[\"DEX_CEX_Spread\"] = svod[\"Close_DEX\"] - svod[\"close_spot_bin\"]\n",
    "\n",
    "\n",
    "plt.figure(figsize=(16,8))\n",
    "plt.bar(x=svod.index, height = svod[\"DEX_CEX_Spread\"], color = \"orange\")\n",
    "plt.xticks(rotation=45, fontsize =15)\n",
    "plt.yticks(fontsize =15)\n",
    "plt.xlabel(\"Date\", fontsize =15, labelpad =20)\n",
    "plt.ylabel(\"Price difference USDT\", fontsize =15, labelpad =20)\n",
    "plt.title(\"Spread between CEX and DEX spot close prices\", fontsize =22)"
   ]
  },
  {
   "cell_type": "markdown",
   "id": "52b6f79d",
   "metadata": {},
   "source": [
    "* Цены на DEX выше цен на CEX  Скорее всего в силу проскальзывания и комиссий\n",
    "* Арбитражная возможность присутствует"
   ]
  },
  {
   "cell_type": "markdown",
   "id": "ddf59075",
   "metadata": {},
   "source": [
    "## Сравнение цен на Binance и FTX"
   ]
  },
  {
   "cell_type": "code",
   "execution_count": 31,
   "id": "2fc3e6e9",
   "metadata": {
    "scrolled": false
   },
   "outputs": [
    {
     "data": {
      "text/plain": [
       "Text(0.5, 1.0, 'Arbitrage spread between Binance FTX Spot')"
      ]
     },
     "execution_count": 31,
     "metadata": {},
     "output_type": "execute_result"
    },
    {
     "data": {
      "image/png": "[encoded data removed]",
      "text/plain": [
       "<Figure size 1152x576 with 1 Axes>"
      ]
     },
     "metadata": {
      "needs_background": "light"
     },
     "output_type": "display_data"
    }
   ],
   "source": [
    "svod[\"close_spot_bin\"] = [float(x) for x in svod[\"close_spot_bin\"]]\n",
    "svod[\"binance_ftx_spo_close_spread\"] = svod[\"close_spot_bin\"] - svod[\"close_spot_ftx\"]\n",
    "\n",
    "plt.figure(figsize=(16,8))\n",
    "plt.bar(x=svod.index, height = svod[\"binance_ftx_spo_close_spread\"], color = \"orange\")\n",
    "plt.xticks(rotation=45, fontsize =15)\n",
    "plt.yticks(fontsize =15)\n",
    "plt.xlabel(\"Date\", fontsize =15, labelpad =20)\n",
    "plt.ylabel(\"Binance vs FTX spread in USDT\", fontsize=15, labelpad =20)\n",
    "plt.title(\"Arbitrage spread between Binance FTX Spot\", fontsize =22)"
   ]
  },
  {
   "cell_type": "markdown",
   "id": "c8567d4c",
   "metadata": {},
   "source": [
    "* Размер спреда между двумся CEX гораздо меньше и разнонаправленный"
   ]
  },
  {
   "cell_type": "code",
   "execution_count": 40,
   "id": "82b91ce4",
   "metadata": {},
   "outputs": [
    {
     "data": {
      "text/plain": [
       "Text(0.5, 1.0, 'Volumes Binance FTX Spot')"
      ]
     },
     "execution_count": 40,
     "metadata": {},
     "output_type": "execute_result"
    },
    {
     "data": {
      "image/png": "[encoded data removed]",
      "text/plain": [
       "<Figure size 1152x576 with 1 Axes>"
      ]
     },
     "metadata": {
      "needs_background": "light"
     },
     "output_type": "display_data"
    }
   ],
   "source": [
    "# Сравнение объемов\n",
    "svod[\"volume_spot_bin\"] = [float(x) for x in svod[\"volume_spot_bin\"]]\n",
    "\n",
    "svod[\"volume_spot_bin\"] = svod[\"volume_spot_bin\"] * 10\n",
    "svod[\"VolumeDEX\"] = svod[\"VolumeDEX\"] / 10\n",
    "svod[\"volume_spot_ftx\"] = svod[\"volume_spot_ftx\"] \n",
    "svod[\"total_volume\"] = svod[\"volume_spot_ftx\"] + svod[\"VolumeDEX\"] + svod[\"volume_spot_bin\"]\n",
    "\n",
    "svod[\"Binance_volume_Percentage\"] = [x/y for x,y in zip(svod[\"volume_spot_bin\"],svod[\"total_volume\"])]\n",
    "svod[\"FTX_volume_Percentage\"] = [x/y for x,y in zip(svod[\"volume_spot_ftx\"],svod[\"total_volume\"])]\n",
    "svod[\"DEX_volume_Percentage\"] = [x/y for x,y in zip(svod[\"VolumeDEX\"],svod[\"total_volume\"])]\n",
    "\n",
    "plt.figure(figsize=(16,8))\n",
    "plt.bar(x=svod.index, height=svod[\"Binance_volume_Percentage\"], label = \"Volume Binance\", color=\"orange\")\n",
    "plt.bar(x=svod.index, height=svod[\"FTX_volume_Percentage\"], label = \"Volume FTX\",\n",
    "        bottom = svod[\"Binance_volume_Percentage\"], color = \"purple\")\n",
    "plt.bar(x=svod.index, height=svod[\"DEX_volume_Percentage\"], label = \"Volume DEX\",\n",
    "        color = \"blue\", bottom = svod[\"Binance_volume_Percentage\"] + svod[\"FTX_volume_Percentage\"])\n",
    "\n",
    "\n",
    "plt.xticks(rotation=45, fontsize =15)\n",
    "plt.yticks(fontsize =15)\n",
    "\n",
    "plt.legend(fontsize =15)\n",
    "plt.xlabel(\"Date\", fontsize =15, labelpad =20)\n",
    "plt.ylabel(\"Volume Percentag\", fontsize =15, labelpad =20)\n",
    "plt.title(\"Volumes Binance FTX Spot\", fontsize =22)"
   ]
  },
  {
   "cell_type": "markdown",
   "id": "aa74edd0",
   "metadata": {},
   "source": [
    "* Объем торгов на CEX опрежает DEX \n",
    "* Самая большая доля торгов у бинанс\n",
    "* Скорее всего все миспрайсинги цены арбитражеры исправляют в паре с бинанс"
   ]
  },
  {
   "cell_type": "markdown",
   "id": "6daa5f0a",
   "metadata": {},
   "source": [
    "## Сравнение Цен фьючерсов и спотов"
   ]
  },
  {
   "cell_type": "code",
   "execution_count": 42,
   "id": "4ccb82d1",
   "metadata": {},
   "outputs": [
    {
     "name": "stderr",
     "output_type": "stream",
     "text": [
      "No handles with labels found to put in legend.\n"
     ]
    },
    {
     "data": {
      "text/plain": [
       "Text(0.5, 1.0, 'Binance Futures Spot Spread')"
      ]
     },
     "execution_count": 42,
     "metadata": {},
     "output_type": "execute_result"
    },
    {
     "data": {
      "image/png": "[encoded data removed]",
      "text/plain": [
       "<Figure size 1152x576 with 1 Axes>"
      ]
     },
     "metadata": {
      "needs_background": "light"
     },
     "output_type": "display_data"
    }
   ],
   "source": [
    "# Сравнение цен Perp фьюча и спота\n",
    "svod[\"close_Qfut_bin\"] = [float(x) for x in svod[\"close_Qfut_bin\"]]\n",
    "svod[\"close_spot_bin\"] = [float(x) for x in svod[\"close_spot_bin\"]]\n",
    "svod[\"Binance_QFut_Spot_spread\"] = svod[\"close_Qfut_bin\"]  - svod[\"close_spot_bin\"]\n",
    "\n",
    "plt.figure(figsize=(16,8))\n",
    "plt.bar(x=svod.index, height = svod[\"Binance_QFut_Spot_spread\"], color = \"orange\")\n",
    "\n",
    "\n",
    "plt.xticks(rotation=45, fontsize =15)\n",
    "plt.yticks(fontsize =15)\n",
    "plt.xlabel(\"Date\", fontsize =15, labelpad =20)\n",
    "plt.ylabel(\"Price\", fontsize =15, labelpad =20)\n",
    "plt.title(\"Binance Futures Spot Spread\", fontsize =22)"
   ]
  },
  {
   "cell_type": "markdown",
   "id": "15c7cd02",
   "metadata": {},
   "source": [
    "* Цены на фьючерсном рынке на момент закрытия отстаяют от спотового рынка\n",
    "* Размер спреда снижается за месяц, скорее всего связано с изменением срочности фьючерса"
   ]
  },
  {
   "cell_type": "code",
   "execution_count": 46,
   "id": "0686bf66",
   "metadata": {},
   "outputs": [
    {
     "data": {
      "text/plain": [
       "Text(0.5, 1.0, 'FTX Futures Spot Spread')"
      ]
     },
     "execution_count": 46,
     "metadata": {},
     "output_type": "execute_result"
    },
    {
     "data": {
      "image/png": "[encoded data removed]",
      "text/plain": [
       "<Figure size 1152x576 with 1 Axes>"
      ]
     },
     "metadata": {
      "needs_background": "light"
     },
     "output_type": "display_data"
    }
   ],
   "source": [
    "# Сравнение цен квартального фьюча и спота\n",
    "svod[\"FTX_QFut_Spot_spread\"] = svod[\"close_Qfut_ftx\"] - svod[\"close_spot_ftx\"] \n",
    "\n",
    "plt.figure(figsize=(16,8))\n",
    "plt.bar(x=svod.index, height = svod[\"FTX_QFut_Spot_spread\"], color = \"orange\")\n",
    "\n",
    "\n",
    "plt.xticks(rotation=45, fontsize =15)\n",
    "plt.yticks(fontsize =15)\n",
    "plt.xlabel(\"Date\", fontsize =15, labelpad =20)\n",
    "plt.ylabel(\"Price Difference USDT\", fontsize =15, labelpad =20)\n",
    "plt.title(\"FTX Futures Spot Spread\", fontsize =22)"
   ]
  },
  {
   "cell_type": "markdown",
   "id": "b46dbc26",
   "metadata": {},
   "source": [
    "* Цены на квартальные фьючерсы отстают от спота также как и на бинанс\n",
    "* Размера спреда также снижается ближе к дате экспирации\n",
    "* Размер спреда на FTX выше"
   ]
  },
  {
   "cell_type": "code",
   "execution_count": 50,
   "id": "8d1fa6e6",
   "metadata": {
    "scrolled": false
   },
   "outputs": [
    {
     "data": {
      "text/plain": [
       "Text(0.5, 1.0, 'Spread Between FTX and Binance Futures')"
      ]
     },
     "execution_count": 50,
     "metadata": {},
     "output_type": "execute_result"
    },
    {
     "data": {
      "image/png": "[encoded data removed]",
      "text/plain": [
       "<Figure size 1152x576 with 1 Axes>"
      ]
     },
     "metadata": {
      "needs_background": "light"
     },
     "output_type": "display_data"
    }
   ],
   "source": [
    "# Сравнение цен квартального фьюча бинанса и ftx\n",
    "svod[\"FTX_Bin_QFut_spread\"] = svod[\"close_Qfut_ftx\"] - svod[\"close_Qfut_bin\"] \n",
    "\n",
    "plt.figure(figsize=(16,8))\n",
    "plt.bar(x=svod.index, height = svod[\"FTX_Bin_QFut_spread\"], color = \"orange\")\n",
    "\n",
    "\n",
    "plt.xticks(rotation=45, fontsize =15)\n",
    "plt.yticks(fontsize =15)\n",
    "plt.xlabel(\"Date\", fontsize =15, labelpad =20)\n",
    "plt.ylabel(\"Price Difference USDT\", fontsize =15, labelpad =20)\n",
    "plt.title(\"Spread Between FTX and Binance Futures\", fontsize =22)"
   ]
  },
  {
   "cell_type": "markdown",
   "id": "d0166575",
   "metadata": {},
   "source": [
    "* Есть арбитражные возможности между биржами. Скорее всего ошибка в данных, выясню"
   ]
  },
  {
   "cell_type": "markdown",
   "id": "a1baa806",
   "metadata": {},
   "source": [
    "### Funding Rates"
   ]
  },
  {
   "cell_type": "code",
   "execution_count": 21,
   "id": "8621559b",
   "metadata": {},
   "outputs": [
    {
     "name": "stderr",
     "output_type": "stream",
     "text": [
      "No handles with labels found to put in legend.\n"
     ]
    },
    {
     "data": {
      "text/plain": [
       "Text(0.5, 1.0, 'FTX Funding Rate Distribution')"
      ]
     },
     "execution_count": 21,
     "metadata": {},
     "output_type": "execute_result"
    },
    {
     "data": {
      "image/png": "[encoded data removed]",
      "text/plain": [
       "<Figure size 1152x576 with 1 Axes>"
      ]
     },
     "metadata": {
      "needs_background": "light"
     },
     "output_type": "display_data"
    }
   ],
   "source": [
    "plt.figure(figsize=(16,8))\n",
    "plt.hist(svod_rates[\"ftx_funding\"])\n",
    "plt.legend(fontsize =15)\n",
    "plt.xticks(fontsize =15)\n",
    "plt.yticks(fontsize =15)\n",
    "plt.xlabel(\"Funding Rate, Basis Points\", fontsize =15, labelpad =20)\n",
    "plt.ylabel(\"Density\", fontsize =15, labelpad =20)\n",
    "plt.title(\"FTX Funding Rate Distribution\", fontsize = 22)"
   ]
  },
  {
   "cell_type": "code",
   "execution_count": 22,
   "id": "899b38ba",
   "metadata": {
    "scrolled": true
   },
   "outputs": [
    {
     "name": "stderr",
     "output_type": "stream",
     "text": [
      "No handles with labels found to put in legend.\n"
     ]
    },
    {
     "data": {
      "text/plain": [
       "Text(0.5, 1.0, 'Binance Funding Rate Distribution')"
      ]
     },
     "execution_count": 22,
     "metadata": {},
     "output_type": "execute_result"
    },
    {
     "data": {
      "image/png": "[encoded data removed]",
      "text/plain": [
       "<Figure size 1152x576 with 1 Axes>"
      ]
     },
     "metadata": {
      "needs_background": "light"
     },
     "output_type": "display_data"
    }
   ],
   "source": [
    "plt.figure(figsize=(16,8))\n",
    "plt.hist(svod_rates[\"bin_funding\"]/10)\n",
    "plt.legend(fontsize =15)\n",
    "plt.xticks(fontsize =15)\n",
    "plt.yticks(fontsize =15)\n",
    "plt.xlabel(\"Funding Rate, Basis Points\", fontsize =15, labelpad =20)\n",
    "plt.ylabel(\"Density\", fontsize =15, labelpad =20)\n",
    "plt.title(\"Binance Funding Rate Distribution\", fontsize = 22)"
   ]
  },
  {
   "cell_type": "code",
   "execution_count": 24,
   "id": "8b3a231f",
   "metadata": {},
   "outputs": [
    {
     "data": {
      "text/html": [
       "<div>\n",
       "<style scoped>\n",
       "    .dataframe tbody tr th:only-of-type {\n",
       "        vertical-align: middle;\n",
       "    }\n",
       "\n",
       "    .dataframe tbody tr th {\n",
       "        vertical-align: top;\n",
       "    }\n",
       "\n",
       "    .dataframe thead th {\n",
       "        text-align: right;\n",
       "    }\n",
       "</style>\n",
       "<table border=\"1\" class=\"dataframe\">\n",
       "  <thead>\n",
       "    <tr style=\"text-align: right;\">\n",
       "      <th></th>\n",
       "      <th>bin_funding</th>\n",
       "      <th>ftx_funding</th>\n",
       "    </tr>\n",
       "  </thead>\n",
       "  <tbody>\n",
       "    <tr>\n",
       "      <th>mean</th>\n",
       "      <td>-0.000093</td>\n",
       "      <td>-0.000018</td>\n",
       "    </tr>\n",
       "    <tr>\n",
       "      <th>std</th>\n",
       "      <td>0.000106</td>\n",
       "      <td>0.000011</td>\n",
       "    </tr>\n",
       "    <tr>\n",
       "      <th>min</th>\n",
       "      <td>-0.000389</td>\n",
       "      <td>-0.000069</td>\n",
       "    </tr>\n",
       "    <tr>\n",
       "      <th>max</th>\n",
       "      <td>0.000089</td>\n",
       "      <td>0.000003</td>\n",
       "    </tr>\n",
       "    <tr>\n",
       "      <th>median</th>\n",
       "      <td>-0.000080</td>\n",
       "      <td>-0.000016</td>\n",
       "    </tr>\n",
       "    <tr>\n",
       "      <th>skew</th>\n",
       "      <td>-0.693939</td>\n",
       "      <td>-1.600466</td>\n",
       "    </tr>\n",
       "  </tbody>\n",
       "</table>\n",
       "</div>"
      ],
      "text/plain": [
       "        bin_funding  ftx_funding\n",
       "mean      -0.000093    -0.000018\n",
       "std        0.000106     0.000011\n",
       "min       -0.000389    -0.000069\n",
       "max        0.000089     0.000003\n",
       "median    -0.000080    -0.000016\n",
       "skew      -0.693939    -1.600466"
      ]
     },
     "execution_count": 24,
     "metadata": {},
     "output_type": "execute_result"
    }
   ],
   "source": [
    "svod_rates.agg({\"bin_funding\": [ \"mean\", \"std\", \"min\", \"max\", \"median\", \"skew\"],\n",
    "               \"ftx_funding\": [ \"mean\", \"std\", \"min\", \"max\", \"median\", \"skew\"]})"
   ]
  },
  {
   "cell_type": "markdown",
   "id": "234e3759",
   "metadata": {},
   "source": [
    "* Фандинговы ставки за период сильно сдвинуты влево, что говорит о том, что цены спота превосходили фьючерсы за выбранный период\n",
    "* с 95% вероятностью ставка по Binance не падала ниже чем 3,4  Для binance 1.78"
   ]
  },
  {
   "cell_type": "code",
   "execution_count": 25,
   "id": "554bd6e8",
   "metadata": {
    "scrolled": false
   },
   "outputs": [
    {
     "data": {
      "text/plain": [
       "Text(0.5, 1.0, 'Futures hourly Funding rates comparing')"
      ]
     },
     "execution_count": 25,
     "metadata": {},
     "output_type": "execute_result"
    },
    {
     "data": {
      "image/png": "[encoded data removed]",
      "text/plain": [
       "<Figure size 1152x576 with 1 Axes>"
      ]
     },
     "metadata": {
      "needs_background": "light"
     },
     "output_type": "display_data"
    }
   ],
   "source": [
    "#Fundig rates\n",
    "plt.figure(figsize=(16,8))\n",
    "plt.plot(svod_rates[\"ftx_funding\"], label = \"FTX funding\",  c =\"red\")\n",
    "#plt.scatter(svod_rates.index, svod_rates[\"ftx_funding\"])\n",
    "\n",
    "plt.plot(svod_rates[\"bin_funding\"], label = \"Binance funding\", c = \"green\")\n",
    "plt.axhline(y=0, c = \"black\", alpha = 0.5)\n",
    "#plt.scatter(svod_rates.index, svod_rates[\"Volume_bin\"])\n",
    "plt.legend(fontsize =15)\n",
    "plt.xticks(rotation=45, fontsize =15)\n",
    "plt.yticks(fontsize =15)\n",
    "plt.xlabel(\"Date\", fontsize =15, labelpad =20)\n",
    "plt.ylabel(\"Funding Rate\", fontsize =15, labelpad =20)\n",
    "plt.title(\"Futures hourly Funding rates comparing\", fontsize = 22)"
   ]
  },
  {
   "cell_type": "markdown",
   "id": "6b4805c7",
   "metadata": {},
   "source": [
    "* Ставки на Binance обновляются раз в 8 часов, а на ftx каждый час\n",
    "* вариацаия ставок на binance существенно выше, чем на ftx\n",
    "* ставки фондирования по ftx практически всегда отрицательные, возможно это можно использовать"
   ]
  },
  {
   "cell_type": "markdown",
   "id": "d1c4d9cf",
   "metadata": {},
   "source": [
    "# Что влияет на ставки "
   ]
  },
  {
   "cell_type": "markdown",
   "id": "20e18923",
   "metadata": {},
   "source": [
    "* Цены на деривативы и спотовые активы\n",
    "* Объемы торгов на спот рынке и рынке деривативов \n",
    "* Ставки по кредитам\n",
    "* Фаза рынка\n",
    "* Направление движения цены за период\n",
    "* Объем пула ликвидности на DEX в этот момент"
   ]
  },
  {
   "cell_type": "markdown",
   "id": "4188e9a0",
   "metadata": {},
   "source": [
    "# Правки"
   ]
  },
  {
   "cell_type": "markdown",
   "id": "00f5131c",
   "metadata": {},
   "source": [
    "**Правки**\n",
    "* Перевести все числа в svod во float\n",
    "* Переписать в одну функцию \n",
    "* Не хватает подписей и измерений на осях ++++\n",
    "* Объемы лучше рисовать барчартами +++++ done\n",
    "* Очень маленькие интервалы - брать стоит минимум годовой горизонт\n",
    "* Делать разбивку по сезонностям рынка - переписать функцию в общую\n",
    "* Стоит сделать детализацию для спредов: день, час, минуты - переписать функцию в общую\n",
    "* Futures Funding rates Spread не очень информативно\n",
    "* Не хватает аннуализированных фандингов и количесвтенных статистик по фандингам"
   ]
  },
  {
   "cell_type": "markdown",
   "id": "4ea40c87",
   "metadata": {},
   "source": [
    "**Графики**\n",
    "1. Цена спота, перпета и квартальных\n",
    "2. Фандинг акт, фанд анн\n",
    "3. Спред перепета и спота\n",
    "4. Цена пула из Графа и спред\n",
    "5. Сравнить споты бинанса, фткс и граф (учитывать комиссии?) Замерить расхождение в процентах. \n",
    "Threshold - предел выгодности\n",
    "6. Распределение посмотретьb\n",
    "7. Глубина ликвидности*** - сколько \n",
    "8. Глубина стакана по перпетам и календар и споту и оценка насколько емкой может быть стратегия"
   ]
  },
  {
   "cell_type": "code",
   "execution_count": null,
   "id": "43bfc732",
   "metadata": {},
   "outputs": [],
   "source": []
  }
 ],
 "metadata": {
  "kernelspec": {
   "display_name": "Python 3 (ipykernel)",
   "language": "python",
   "name": "python3"
  },
  "language_info": {
   "codemirror_mode": {
    "name": "ipython",
    "version": 3
   },
   "file_extension": ".py",
   "mimetype": "text/x-python",
   "name": "python",
   "nbconvert_exporter": "python",
   "pygments_lexer": "ipython3",
   "version": "3.9.12"
  }
 },
 "nbformat": 4,
 "nbformat_minor": 5
}
