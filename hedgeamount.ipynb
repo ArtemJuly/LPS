{
 "cells": [
  {
   "cell_type": "code",
   "execution_count": 39,
   "metadata": {},
   "outputs": [
    {
     "data": {
      "text/plain": [
       "(1.4071896625234128, 846.520175008287)"
      ]
     },
     "execution_count": 39,
     "metadata": {},
     "output_type": "execute_result"
    }
   ],
   "source": [
    "class calculateHedge():\n",
    "    def __init__(self, initial_price, upper_bound, lower_bound, \n",
    "    initial_investment_usd, token0_price_usd):\n",
    "        self.initial_price = initial_price \n",
    "        self.upper_bound = upper_bound \n",
    "        self.lower_bound = lower_bound \n",
    "        self.initial_investment_usd = initial_investment_usd\n",
    "\n",
    "        self.token0_price_usd = token0_price_usd\n",
    "        self.token1_price_usd = self.token0_price_usd / self.initial_price \n",
    "\n",
    "        self.relation = self.relation()\n",
    "        self.token0_amount = self.token0_amount()\n",
    "        self.token1_amount = self.token0_amount * self.relation\n",
    "\n",
    "        self.liquidity_number = self.liquidity_number()\n",
    "\n",
    "\n",
    "        \n",
    "    def relation(self):\n",
    "        initial_price = self.initial_price ** 0.5\n",
    "        upper_bound = self.upper_bound ** 0.5\n",
    "        lower_bound = self.lower_bound ** 0.5\n",
    "        return (initial_price - lower_bound) / ((1/initial_price) - (1/upper_bound))\n",
    "\n",
    "    def token0_amount(self):\n",
    "        return self.initial_investment_usd / (self.token0_price_usd + self.relation * self.token1_price_usd)\n",
    "    \n",
    "    def liquidity_number(self):\n",
    "        \"\"\"Не тестировал 1 и 3\"\"\"\n",
    "        initial_price = self.initial_price ** 0.5\n",
    "        upper_bound = self.upper_bound ** 0.5\n",
    "        lower_bound = self.lower_bound ** 0.5\n",
    "\n",
    "        if self.initial_price <= self.lower_bound:\n",
    "            L = self.token0_amount * (upper_bound * lower_bound) / (upper_bound - lower_bound)\n",
    "        elif (self.lower_bound < self.initial_price) & (self.initial_price <= self.upper_bound):\n",
    "            L1 = self.token0_amount * (upper_bound * initial_price) / (upper_bound - initial_price)\n",
    "            L2 = self.token1_amount / (initial_price - lower_bound)\n",
    "            L = min(L1, L2) \n",
    "        elif (self.upper_bound < elf.initial_price):\n",
    "            L = self.token1_amount / (upper_bound - lower_bound)\n",
    "\n",
    "        return L\n",
    "\n",
    "    def new_token_amount(self, new_token0_price_usd, new_token1_price_usd):\n",
    "        new_pool_price = new_token0_price_usd / new_token1_price_usd\n",
    "        upper_bound = self.upper_bound ** 0.5\n",
    "        lower_bound = self.lower_bound ** 0.5\n",
    "        L = self.liquidity_number\n",
    "        if new_pool_price <= self.lower_bound:\n",
    "            amount0 = L / (lower_bound) - L / (upper_bound)\n",
    "            amount1 = 0\n",
    "        elif new_pool_price < self.upper_bound:\n",
    "            amount0 = L / (new_pool_price ** 0.5) - L / upper_bound\n",
    "            amount1 = L * (new_pool_price ** 0.5) - L * lower_bound\n",
    "        elif new_pool_price >= self.upper_bound:\n",
    "            amount0 = 0\n",
    "            amount1 = L * upper_bound - L * lower_bound\n",
    "\n",
    "        return amount0, amount1\n",
    "\n",
    "        \n",
    "\n",
    "\n",
    "\n",
    "\n",
    "\n",
    "FF_WETH = calculateHedge(initial_price = initial_price, upper_bound=upper_bound, lower_bound=lower_bound,\n",
    "initial_investment_usd = initial_investment_usd, token0_price_usd=token0_price_usd)\n",
    "#FF_WETH.relation\n",
    "FF_WETH.new_token_amount(4400, 4.1)\n",
    "\n"
   ]
  },
  {
   "cell_type": "code",
   "execution_count": 41,
   "metadata": {},
   "outputs": [
    {
     "data": {
      "text/plain": [
       "(0.0015522332188693602, 0.043080844931005946)"
      ]
     },
     "execution_count": 41,
     "metadata": {},
     "output_type": "execute_result"
    }
   ],
   "source": [
    "initial_price = 15.0812\n",
    "upper_bound = 16.9939\n",
    "lower_bound = 13.9973\n",
    "initial_investment_usd = 123.57\n",
    "token0_price_usd = 28209.46\n",
    "\n",
    "BTC_WETH = calculateHedge(initial_price = initial_price, upper_bound=upper_bound, lower_bound=lower_bound,\n",
    "initial_investment_usd = initial_investment_usd, token0_price_usd=token0_price_usd)\n",
    "\n",
    "BTC_WETH.new_token_amount(30136, 1901.74)"
   ]
  },
  {
   "cell_type": "code",
   "execution_count": 15,
   "metadata": {},
   "outputs": [
    {
     "data": {
      "text/plain": [
       "0.007204139684458459"
      ]
     },
     "execution_count": 15,
     "metadata": {},
     "output_type": "execute_result"
    }
   ],
   "source": [
    "FF_WETH.token1_price_usd"
   ]
  },
  {
   "cell_type": "code",
   "execution_count": null,
   "metadata": {},
   "outputs": [],
   "source": []
  }
 ],
 "metadata": {
  "kernelspec": {
   "display_name": "Python 3",
   "language": "python",
   "name": "python3"
  },
  "language_info": {
   "codemirror_mode": {
    "name": "ipython",
    "version": 3
   },
   "file_extension": ".py",
   "mimetype": "text/x-python",
   "name": "python",
   "nbconvert_exporter": "python",
   "pygments_lexer": "ipython3",
   "version": "3.9.13"
  },
  "orig_nbformat": 4
 },
 "nbformat": 4,
 "nbformat_minor": 2
}
